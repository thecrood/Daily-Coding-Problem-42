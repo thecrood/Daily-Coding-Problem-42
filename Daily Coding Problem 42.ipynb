{
 "cells": [
  {
   "cell_type": "markdown",
   "id": "15771217",
   "metadata": {},
   "source": [
    "# Daily Coding Problem 42"
   ]
  },
  {
   "cell_type": "raw",
   "id": "adb84c73",
   "metadata": {},
   "source": [
    "This problem was asked by Google.\n",
    "\n",
    "Given a list of integers S and a target number k, write a function that returns a subset of S that adds up to k. If such a subset cannot be made, then return null.\n",
    "\n",
    "Integers can appear more than once in the list. You may assume all numbers in the list are positive.\n",
    "\n",
    "For example, given S = [12, 1, 61, 5, 9, 2] and k = 24, return [12, 9, 2, 1] since it sums up to 24."
   ]
  },
  {
   "cell_type": "markdown",
   "id": "fed7f51e",
   "metadata": {},
   "source": [
    "# Solution"
   ]
  },
  {
   "cell_type": "code",
   "execution_count": 2,
   "id": "b97e969c",
   "metadata": {},
   "outputs": [
    {
     "name": "stdout",
     "output_type": "stream",
     "text": [
      "[12, 1, 9, 2]\n"
     ]
    }
   ],
   "source": [
    "def get_subset_for_sum(s, k):\n",
    "\n",
    "    if len(s) == 0:\n",
    "        return None\n",
    "\n",
    "    if s[0] == k:\n",
    "        return [s[0]]\n",
    "\n",
    "    with_first = get_subset_for_sum(s[1:], k - s[0])\n",
    "    if with_first:\n",
    "        return [s[0]] + with_first\n",
    "    else:\n",
    "        return get_subset_for_sum(s[1:], k)\n",
    "    \n",
    "print(get_subset_for_sum([12, 1, 61, 5, 9, 2],24))"
   ]
  },
  {
   "cell_type": "code",
   "execution_count": null,
   "id": "29123d7e",
   "metadata": {},
   "outputs": [],
   "source": []
  }
 ],
 "metadata": {
  "kernelspec": {
   "display_name": "Python 3 (ipykernel)",
   "language": "python",
   "name": "python3"
  },
  "language_info": {
   "codemirror_mode": {
    "name": "ipython",
    "version": 3
   },
   "file_extension": ".py",
   "mimetype": "text/x-python",
   "name": "python",
   "nbconvert_exporter": "python",
   "pygments_lexer": "ipython3",
   "version": "3.8.10"
  }
 },
 "nbformat": 4,
 "nbformat_minor": 5
}
